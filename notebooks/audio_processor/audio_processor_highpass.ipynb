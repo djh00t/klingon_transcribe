{
  "cells": [
    {
      "cell_type": "markdown",
      "metadata": {},
      "source": [
        "# High-Pass Filter Audio Processing\n",
        "\n",
        "This notebook demonstrates how to apply a high-pass filter to an audio file using the `librosa` library. We will:\n",
        "1. Load and preprocess an audio file.\n",
        "2. Apply the high-pass filter.\n",
        "3. Visualize and output the filtered audio.\n",
        "\n",
        "## Explanation\n",
        "A high-pass filter allows frequencies above a certain cutoff frequency to pass through while attenuating frequencies below the cutoff. This can be useful for removing low-frequency noise such as hums or rumbles, which can interfere with speech clarity. However, it may also remove some low-frequency components of the speech itself, so it should be used with caution.\n"
      ]
    },
    {
      "cell_type": "markdown",
      "metadata": {},
      "source": [
        "## Step 1: Install Requirements"
      ]
    },
    {
      "cell_type": "code",
      "execution_count": null,
      "metadata": {},
      "outputs": [],
      "source": [
        "# Setup Environment\n",
        "import subprocess\n",
        "\n",
        "def run_command(name=None, command=None):\n",
        "    \"\"\"run_command _summary_\n",
        "\n",
        "    Args:\n",
        "        name (_type_, optional): _description_. Defaults to None.\n",
        "        command (_type_, optional): _description_. Defaults to None.\n",
        "    \"\"\"\n",
        "    display_name = name if name else f\"'{command}'\"\n",
        "    print(f\"Running {display_name}... \", end=\"\")\n",
        "    try:\n",
        "        if command:\n",
        "            subprocess.run(command, check=True, shell=True)\n",
        "        else:\n",
        "            subprocess.run(name, check=True, shell=True)\n",
        "        print(\"\\033[1;32mOK\\033[0m\")  # Bold Green\n",
        "    except subprocess.CalledProcessError as e:\n",
        "        if e.returncode == 1:  # Assuming '1' is a warning\n",
        "            print(\"\\033[1;33mWARNING\\033[0m\")  # Bold Yellow\n",
        "        else:\n",
        "            print(\"\\033[1;31mERROR\\033[0m\")  # Bold Red\n",
        "\n",
        "# Install torch, numpy, matplotlib, soundfile\n",
        "run_command(name=\"pip install librosa numpy matplotlib soundfile\", command=\"PIP_ROOT_USER_ACTION=ignore pip install -q librosa numpy matplotlib soundfile\")"
      ]
    },
    {
      "cell_type": "markdown",
      "metadata": {},
      "source": [
        "## Step 2: Load Libraries"
      ]
    },
    {
      "cell_type": "code",
      "execution_count": null,
      "metadata": {},
      "outputs": [],
      "source": [
        "# Import necessary libraries\n",
        "import librosa\n",
        "import soundfile as sf\n",
        "import numpy as np\n",
        "import matplotlib.pyplot as plt"
      ]
    },
    {
      "cell_type": "markdown",
      "metadata": {},
      "source": [
        "## Step 3: Load the Audio File\n",
        "\n",
        "We start by loading an audio file using `soundfile`. The audio needs to be in a format supported by `librosa`."
      ]
    },
    {
      "cell_type": "code",
      "execution_count": null,
      "metadata": {},
      "outputs": [],
      "source": [
        "# Load the audio file\n",
        "audio_filepath = \"../../test_pcm.wav\"\n",
        "audio, sample_rate = sf.read(audio_filepath)\n",
        "\n",
        "# Plot the audio waveform\n",
        "plt.figure(figsize=(15, 5))\n",
        "plt.plot(np.linspace(0, len(audio) / sample_rate, num=len(audio)), audio)\n",
        "plt.title('Audio Waveform')\n",
        "plt.xlabel('Time [s]')\n",
        "plt.ylabel('Amplitude')\n",
        "plt.show()\n",
        "\n",
        "# Play the audio from memory\n",
        "import IPython.display as ipd\n",
        "ipd.Audio(audio, rate=sample_rate)"
      ]
    },
    {
      "cell_type": "markdown",
      "metadata": {},
      "source": [
        "## Step 4: Apply High-Pass Filter\n",
        "\n",
        "Next, we apply the high-pass filter to the audio file using `librosa.effects.preemphasis`."
      ]
    },
    {
      "cell_type": "code",
      "execution_count": null,
      "metadata": {},
      "outputs": [],
      "source": [
        "# Apply high-pass filter\n",
        "audio_filtered = librosa.effects.preemphasis(audio)\n",
        "\n",
        "# Plot the filtered audio waveform\n",
        "plt.figure(figsize=(15, 5))\n",
        "plt.plot(np.linspace(0, len(audio_filtered) / sample_rate, num=len(audio_filtered)), audio_filtered)\n",
        "plt.title('Filtered Audio Waveform')\n",
        "plt.xlabel('Time [s]')\n",
        "plt.ylabel('Amplitude')\n",
        "plt.show()"
      ]
    },
    {
      "cell_type": "markdown",
      "metadata": {},
      "source": [
        "## Step 5: Save & Compare Filtered Audio\n",
        "\n",
        "We save the enhanced audio to a new file and inspect the before and after results."
      ]
    },
    {
      "cell_type": "code",
      "execution_count": null,
      "metadata": {},
      "outputs": [],
      "source": [
        "import numpy as np\n",
        "import matplotlib.pyplot as plt\n",
        "import soundfile as sf\n",
        "import IPython.display as ipd\n",
        "from IPython.display import display, HTML\n",
        "import io\n",
        "import base64\n",
        "\n",
        "# Save the filtered audio\n",
        "output_filepath = \"../filtered_audio.wav\"\n",
        "sf.write(output_filepath, audio_filtered, sample_rate)\n",
        "print(f\"Filtered audio saved to {output_filepath}\")\n",
        "\n",
        "# Function to convert a matplotlib plot to a base64 encoded PNG image\n",
        "def plt_to_base64(x, y, title):\n",
        "    \"\"\"Convert a matplotlib plot to a base64 encoded PNG image.\"\"\"\n",
        "    import io\n",
        "    import base64\n",
        "    plt.figure(figsize=(7, 5))\n",
        "    plt.plot(x, y)\n",
        "    plt.title(title)\n",
        "    plt.xlabel('Time (s)')\n",
        "    plt.ylabel('Amplitude')\n",
        "    buf = io.BytesIO()\n",
        "    plt.savefig(buf, format='png')\n",
        "    buf.seek(0)\n",
        "    image_base64 = base64.b64encode(buf.read()).decode('utf-8')\n",
        "    plt.close()\n",
        "    return image_base64\n",
        "\n",
        "# Generate the waveforms for the original and highpassed audio\n",
        "time_original = np.linspace(0, len(audio) / sample_rate, num=len(audio))\n",
        "time_reduced = np.linspace(0, len(audio_filtered) / sample_rate, num=len(audio_filtered))\n",
        "\n",
        "# Create the HTML layout for plots and audio widgets side by side\n",
        "html_content = f\"\"\"\n",
        "<div style=\"display: flex; justify-content: space-around; align-items: flex-start;\">\n",
        "    <div>\n",
        "        <h4>Original Audio</h4>\n",
        "        <img src=\"data:image/png;base64,{plt_to_base64(time_original, audio, 'Original Audio')}\" alt=\"Original Audio Waveform\"/>\n",
        "        <br>\n",
        "        {ipd.Audio(audio, rate=sample_rate)._repr_html_()}\n",
        "    </div>\n",
        "    <div>\n",
        "        <h4>Noise-Reduced Audio</h4>\n",
        "        <img src=\"data:image/png;base64,{plt_to_base64(time_reduced, audio_filtered, 'Highpass Filtered Audio')}\" alt=\"Highpass Filtered Audio Waveform\"/>\n",
        "        <br>\n",
        "        {ipd.Audio(audio_filtered, rate=sample_rate)._repr_html_()}\n",
        "    </div>\n",
        "</div>\n",
        "\"\"\"\n",
        "\n",
        "# Display the HTML content\n",
        "display(HTML(html_content))"
      ]
    },
    {
      "cell_type": "markdown",
      "metadata": {},
      "source": [
        "## Conclusion\n",
        "\n",
        "In this notebook, we demonstrated how to apply a high-pass filter to an audio file using the `librosa` library. We loaded and preprocessed the audio, applied the high-pass filter, and visualized the filtered audio."
      ]
    }
  ],
  "metadata": {
    "kernelspec": {
      "display_name": "Python 3",
      "language": "python",
      "name": "python3"
    },
    "language_info": {
      "codemirror_mode": {
        "name": "ipython",
        "version": 3
      },
      "file_extension": ".py",
      "mimetype": "text/x-python",
      "name": "python",
      "nbconvert_exporter": "python",
      "pygments_lexer": "ipython3",
      "version": "3.11.0"
    }
  },
  "nbformat": 4,
  "nbformat_minor": 4
}
