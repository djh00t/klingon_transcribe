{
    "cells": [
        {
            "cell_type": "markdown",
            "metadata": {},
            "source": [
                "# Audio Normalization\n",
                "\n",
                "This notebook demonstrates how to normalize audio using the `librosa` library. We will:\n",
                "1. Load and preprocess an audio file.\n",
                "2. Apply normalization to the audio.\n",
                "3. Visualize and output the normalized audio.\n",
                "\n",
                "## Explanation\n",
                "Normalization adjusts the audio signal to a standard level of loudness. This can be useful for speech-to-text processing as it ensures that the audio is at a consistent volume, making it easier for the transcription system to process. However, normalization does not remove noise or other artifacts from the audio.\n"
            ]
        },
        {
            "cell_type": "markdown",
            "metadata": {},
            "source": [
                "## Step 1: Install Requirements"
            ]
        },
        {
            "cell_type": "code",
            "execution_count": 18,
            "metadata": {},
            "outputs": [
                {
                    "name": "stdout",
                    "output_type": "stream",
                    "text": [
                        "Running pip install librosa numpy matplotlib soundfile... "
                    ]
                },
                {
                    "name": "stderr",
                    "output_type": "stream",
                    "text": [
                        "\u001b[33mWARNING: Ignoring invalid distribution ~vidia-nccl-cu12 (/usr/local/envs/klingon_transcribe/lib/python3.11/site-packages)\u001b[0m\u001b[33m\n",
                        "\u001b[0m\u001b[33mWARNING: Skipping /usr/local/envs/klingon_transcribe/lib/python3.11/site-packages/~vidia_nccl_cu12-2.18.1.dist-info due to invalid metadata entry 'name'\u001b[0m\u001b[33m\n",
                        "\u001b[0m"
                    ]
                },
                {
                    "name": "stdout",
                    "output_type": "stream",
                    "text": [
                        "\u001b[1;32mOK\u001b[0m\n"
                    ]
                }
            ],
            "source": [
                "# Setup Environment\n",
                "import subprocess\n",
                "\n",
                "def run_command(name=None, command=None):\n",
                "    \"\"\"run_command _summary_\n",
                "\n",
                "    Args:\n",
                "        name (_type_, optional): _description_. Defaults to None.\n",
                "        command (_type_, optional): _description_. Defaults to None.\n",
                "    \"\"\"\n",
                "    display_name = name if name else f\"'{command}'\"\n",
                "    print(f\"Running {display_name}... \", end=\"\")\n",
                "    try:\n",
                "        if command:\n",
                "            subprocess.run(command, check=True, shell=True)\n",
                "        else:\n",
                "            subprocess.run(name, check=True, shell=True)\n",
                "        print(\"\\033[1;32mOK\\033[0m\")  # Bold Green\n",
                "    except subprocess.CalledProcessError as e:\n",
                "        if e.returncode == 1:  # Assuming '1' is a warning\n",
                "            print(\"\\033[1;33mWARNING\\033[0m\")  # Bold Yellow\n",
                "        else:\n",
                "            print(\"\\033[1;31mERROR\\033[0m\")  # Bold Red\n",
                "\n",
                "# Install torch, numpy, matplotlib, soundfile\n",
                "run_command(name=\"pip install librosa numpy matplotlib soundfile\", command=\"PIP_ROOT_USER_ACTION=ignore pip install -q librosa numpy matplotlib soundfile\")"
            ]
        },
        {
            "cell_type": "markdown",
            "metadata": {},
            "source": [
                "## Step 2: Load Libraries"
            ]
        },
        {
            "cell_type": "code",
            "execution_count": null,
            "metadata": {},
            "outputs": [],
            "source": [
                "# Import necessary libraries\n",
                "import librosa\n",
                "import soundfile as sf\n",
                "import numpy as np\n",
                "import matplotlib.pyplot as plt"
            ]
        },
        {
            "cell_type": "markdown",
            "metadata": {},
            "source": [
                "## Step 3: Load the Audio File\n",
                "\n",
                "We start by loading an audio file using `soundfile`. The audio needs to be in a format supported by `librosa`."
            ]
        },
        {
            "cell_type": "code",
            "execution_count": null,
            "metadata": {},
            "outputs": [],
            "source": [
                "# Load the audio file\n",
                "audio_filepath = \"../../test_pcm.wav\"\n",
                "audio, sample_rate = sf.read(audio_filepath)\n",
                "\n",
                "# Plot the audio waveform\n",
                "plt.figure(figsize=(15, 5))\n",
                "plt.plot(np.linspace(0, len(audio) / sample_rate, num=len(audio)), audio)\n",
                "plt.title('Audio Waveform')\n",
                "plt.xlabel('Time [s]')\n",
                "plt.ylabel('Amplitude')\n",
                "plt.show()\n"
            ]
        },
        {
            "cell_type": "markdown",
            "metadata": {},
            "source": [
                "## Step 4: Normalize Audio\n",
                "\n",
                "Next, we apply normalization to the audio file using `librosa.util.normalize`."
            ]
        },
        {
            "cell_type": "code",
            "execution_count": null,
            "metadata": {},
            "outputs": [],
            "source": [
                "# Normalize audio\n",
                "normalized_audio = librosa.util.normalize(audio)\n",
                "\n",
                "# Plot the normalized audio waveform\n",
                "plt.figure(figsize=(15, 5))\n",
                "plt.plot(np.linspace(0, len(normalized_audio) / sample_rate, num=len(normalized_audio)), normalized_audio)\n",
                "plt.title('Normalized Audio Waveform')\n",
                "plt.xlabel('Time [s]')\n",
                "plt.ylabel('Amplitude')\n",
                "plt.show()\n"
            ]
        },
        {
            "cell_type": "markdown",
            "metadata": {},
            "source": [
                "## Step 5: Save & Compare Normalized Audio\n",
                "\n",
                "We save the enhanced audio to a new file and inspect the before and after results."
            ]
        },
        {
            "cell_type": "code",
            "execution_count": null,
            "metadata": {},
            "outputs": [],
            "source": [
                "import IPython.display as ipd\n",
                "from IPython.display import display, HTML\n",
                "\n",
                "# Save the normalized audio\n",
                "output_filepath = \"../normalized_audio.wav\"\n",
                "# sf.write(output_filepath, normalized_audio, sample_rate)\n",
                "print(f\"Normalized audio saved to {output_filepath}\")\n",
                "\n",
                "# Function to convert a matplotlib plot to a base64 encoded PNG image\n",
                "def plt_to_base64(x, y, title):\n",
                "    \"\"\"Convert a matplotlib plot to a base64 encoded PNG image.\"\"\"\n",
                "    import io\n",
                "    import base64\n",
                "    plt.figure(figsize=(7, 5))\n",
                "    plt.plot(x, y)\n",
                "    plt.title(title)\n",
                "    plt.xlabel('Time (s)')\n",
                "    plt.ylabel('Amplitude')\n",
                "    buf = io.BytesIO()\n",
                "    plt.savefig(buf, format='png')\n",
                "    buf.seek(0)\n",
                "    image_base64 = base64.b64encode(buf.read()).decode('utf-8')\n",
                "    plt.close()\n",
                "    return image_base64\n",
                "\n",
                "# Generate the waveforms for the original and noise-reduced audio\n",
                "time_original = np.linspace(0, len(audio) / sample_rate, num=len(audio))\n",
                "time_reduced = np.linspace(0, len(normalized_audio) / sample_rate, num=len(normalized_audio))\n",
                "\n",
                "# Create the HTML layout for plots and audio widgets side by side\n",
                "html_content = f\"\"\"\n",
                "<div style=\"display: flex; justify-content: space-around; align-items: flex-start;\">\n",
                "    <div>\n",
                "        <h4>Original Audio</h4>\n",
                "        <img src=\"data:image/png;base64,{plt_to_base64(time_original, audio, 'Original Audio')}\" alt=\"Original Audio Waveform\"/>\n",
                "        <br>\n",
                "        {ipd.Audio(audio, rate=sample_rate)._repr_html_()}\n",
                "    </div>\n",
                "    <div>\n",
                "        <h4>Noise-Reduced Audio</h4>\n",
                "        <img src=\"data:image/png;base64,{plt_to_base64(time_reduced, normalized_audio, 'Normalized Audio')}\" alt=\"Normalized Audio Waveform\"/>\n",
                "        <br>\n",
                "        {ipd.Audio(normalized_audio, rate=sample_rate)._repr_html_()}\n",
                "    </div>\n",
                "</div>\n",
                "\"\"\"\n",
                "\n",
                "# Display the HTML content\n",
                "display(HTML(html_content))"
            ]
        },
        {
            "cell_type": "markdown",
            "metadata": {},
            "source": [
                "## Conclusion\n",
                "\n",
                "In this notebook, we demonstrated how to normalize audio using the `librosa` library. We loaded and preprocessed the audio, applied normalization and visualized the normalized audio."
            ]
        }
    ],
    "metadata": {
        "kernelspec": {
            "display_name": "Python 3",
            "language": "python",
            "name": "python3"
        },
        "language_info": {
            "codemirror_mode": {
                "name": "ipython",
                "version": 3
            },
            "file_extension": ".py",
            "mimetype": "text/x-python",
            "name": "python",
            "nbconvert_exporter": "python",
            "pygments_lexer": "ipython3",
            "version": "3.11.0"
        }
    },
    "nbformat": 4,
    "nbformat_minor": 4
}
