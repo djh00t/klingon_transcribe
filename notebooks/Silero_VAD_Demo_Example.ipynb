{
    "cells": [
        {
            "cell_type": "markdown",
            "metadata": {},
            "source": [
    "# Voice Activity Detection (VAD) using Silero VAD
",
    "
",
    "This notebook demonstrates how to perform Voice Activity Detection (VAD) using the `silero-vad` library. We will:
",
    "1. Load and preprocess an audio file.
",
    "2. Apply the VAD algorithm to detect speech segments.
",
    "3. Visualize and output the detected speech segments.
"
            ]
        },
        {
            "cell_type": "markdown",
            "metadata": {},
            "source": [
                "## Step 1: Install and Import Dependencies"
            ]
        },
        {
            "cell_type": "code",
            "execution_count": null,
            "metadata": {},
            "outputs": [],
            "source": [
    "# this assumes that you have a relevant version of PyTorch installed
",
    "!pip install -q torchaudio
",
    "
",
    "SAMPLING_RATE = 16000
",
    "
",
    "import torch
",
    "torch.set_num_threads(1)
",
    "
",
    "from IPython.display import Audio
",
    "from pprint import pprint
",
    "# download example
",
    "torch.hub.download_url_to_file('https://models.silero.ai/vad_models/en.wav', 'en_example.wav')
",
    "USE_ONNX = False # change this to True if you want to test onnx model
",
    "if USE_ONNX:
",
    "    !pip install -q onnxruntime
",
    "
",
    "model, utils = torch.hub.load(repo_or_dir='snakers4/silero-vad',
",
    "                              model='silero_vad',
",
    "                              force_reload=True,
",
    "                              onnx=USE_ONNX)
",
    "
",
    "(get_speech_timestamps,
",
    " save_audio,
",
    " read_audio,
",
    " VADIterator,"," collect_chunks) = utils"
            ]
        },
        {
            "cell_type": "markdown",
            "metadata": {},
            "source": [
    "## Step 2: Load the Audio File and Perform VAD
",
    "","We start by loading an audio file using `read_audio` from `silero-vad`. Then, we apply the VAD model to detect speech segments and save the speech-only audio."
            ]
        },
        {
            "cell_type": "code",
            "execution_count": null,
            "metadata": {},
            "outputs": [],
            "source": [
    "# Load the audio file
",
    "wav = read_audio('en_example.wav', sampling_rate=SAMPLING_RATE)
",
    "
",
    "# get speech timestamps from full audio file
",
    "speech_timestamps = get_speech_timestamps(wav, model, sampling_rate=SAMPLING_RATE)
",
    "pprint(speech_timestamps)
",
    "
",
    "# merge all speech chunks to one audio
",
    "save_audio('only_speech.wav',
",
    "           collect_chunks(speech_timestamps, wav), sampling_rate=SAMPLING_RATE)","Audio('only_speech.wav')"
            ]
        },
        {
            "cell_type": "markdown",
            "metadata": {},
            "source": [
    "## Step 3: Visualize the Detected Speech Segments
",
    "","We visualize the detected speech segments on the audio waveform to better understand where speech occurs."
            ]
        },
        {
            "cell_type": "code",
            "execution_count": null,
            "metadata": {},
            "outputs": [],
            "source": [
    "import matplotlib.pyplot as plt
",
    "import numpy as np
",
    "
",
    "# Plot the audio waveform
",
    "def plot_waveform(audio, sample_rate):
",
    "    plt.figure(figsize=(15, 5))
",
    "    plt.plot(np.linspace(0, len(audio) / sample_rate, num=len(audio)), audio)
",
    "    plt.title('Audio Waveform')
",
    "    plt.xlabel('Time [s]')
",
    "    plt.ylabel('Amplitude')
",
    "    plt.show()
",
    "
",
    "plot_waveform(wav, SAMPLING_RATE)
",
    "
",
    "# Plot the audio waveform with detected speech segments
",
    "def plot_waveform_and_segments(audio, sample_rate, speech_segments):
",
    "    plt.figure(figsize=(15, 5))
",
    "    plt.plot(np.linspace(0, len(audio) / sample_rate, num=len(audio)), audio, label='Audio')
",
    "    for segment in speech_segments:
",
    "        start, end = segment['start'] / sample_rate, segment['end'] / sample_rate","        plt.axvspan(start, end, color='red', alpha=0.5, label='Speech Segment' if start == speech_segments[
                    0
                ]['start'
                ] / sample_rate else "")
",
    "    plt.title('Audio Waveform with Detected Speech Segments')
",
    "    plt.xlabel('Time [s]')
",
    "    plt.ylabel('Amplitude')
",
    "    plt.legend()
",
    "    plt.show()
",
    "","plot_waveform_and_segments(wav, SAMPLING_RATE, speech_timestamps)"
            ]
        },
        {
            "cell_type": "markdown",
            "metadata": {},
            "source": [
    "## Conclusion
",
    "","In this notebook, we demonstrated how to use the `silero-vad` library to detect speech segments in an audio file. We loaded and preprocessed the audio, applied the VAD algorithm, and visualized the detected speech segments. Optionally, we saved the detected speech segments as separate audio files for further analysis."
            ]
        }
    ],
    "metadata": {
        "kernelspec": {
            "display_name": "Python 3",
            "language": "python",
            "name": "python3"
        },
        "language_info": {
            "codemirror_mode": {
                "name": "ipython",
                "version": 3
            },
            "file_extension": ".py",
            "mimetype": "text/x-python",
            "name": "python",
            "nbconvert_exporter": "python",
            "pygments_lexer": "ipython3",
            "version": "3.8.5"
        }
    },
    "nbformat": 4,
    "nbformat_minor": 4
}